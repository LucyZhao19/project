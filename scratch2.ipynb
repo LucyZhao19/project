{
 "cells": [
  {
   "cell_type": "code",
   "execution_count": 1,
   "metadata": {},
   "outputs": [],
   "source": [
    "import pandas"
   ]
  },
  {
   "cell_type": "code",
   "execution_count": 9,
   "metadata": {},
   "outputs": [
    {
     "name": "stdout",
     "output_type": "stream",
     "text": [
      "A\n",
      "chr1\n"
     ]
    }
   ],
   "source": [
    "\n",
    "DATA = pandas.read_csv('user_input.csv')\n",
    "SAMPLE = DATA['sample'][0]\n",
    "REFERENCE = DATA['reference'][0]\n",
    "\n",
    "print(SAMPLE)\n",
    "print(REFERENCE)"
   ]
  },
  {
   "cell_type": "code",
   "execution_count": 54,
   "metadata": {},
   "outputs": [],
   "source": [
    "import os\n",
    "import subprocess"
   ]
  },
  {
   "cell_type": "code",
   "execution_count": 31,
   "metadata": {},
   "outputs": [],
   "source": [
    "snakemake_plot=os.listdir('./static')"
   ]
  },
  {
   "cell_type": "code",
   "execution_count": 36,
   "metadata": {},
   "outputs": [
    {
     "name": "stdout",
     "output_type": "stream",
     "text": [
      "A_chr1.txt\n",
      "A_chr1_quals.png\n"
     ]
    }
   ],
   "source": [
    " # find output files of snakemake workflow output\n",
    "outputs = os.listdir('./static')\n",
    "# loop over each filename in /static folder\n",
    "for file in outputs:\n",
    "    # store vcf output (filename ends with \".txt\")\n",
    "    if file.endswith(\".txt\"):\n",
    "        vcf = file\n",
    "        print(vcf)\n",
    "    # store plot output (filename ends wth \".png\")\n",
    "    if file.endswith(\".png\"):\n",
    "        plot = file\n",
    "        print(plot)"
   ]
  },
  {
   "cell_type": "code",
   "execution_count": 43,
   "metadata": {},
   "outputs": [
    {
     "name": "stdout",
     "output_type": "stream",
     "text": [
      "yes\n"
     ]
    }
   ],
   "source": [
    "REFERENCE = [\"chr\" + str(i) for i in range(1, 23)]\n",
    "\n",
    "reference = \"chr1\" \n",
    "\n",
    "if reference in REFERENCE:\n",
    "    print(\"yes\")\n",
    "else:\n",
    "    print(\"no\")"
   ]
  },
  {
   "cell_type": "code",
   "execution_count": 51,
   "metadata": {},
   "outputs": [
    {
     "name": "stdout",
     "output_type": "stream",
     "text": [
      "A_chr2.txt\n",
      "A_chr1.txt\n"
     ]
    }
   ],
   "source": [
    "file = \"A_chr2.txt\"\n",
    "sample = \"A\"\n",
    "reference = \"chr2\"\n",
    "# store name of output txt file\n",
    "expected_vcf = sample + \"_\" + reference + \".txt\"\n",
    "print(expected_vcf)\n",
    "# loop over each filename in /static folder\n",
    "for file in outputs:\n",
    "    # store vcf output (filename == sample_reference.txt )\n",
    "    if file == expected_vcf:\n",
    "        vcf = file\n",
    "\n",
    "print(vcf)"
   ]
  },
  {
   "cell_type": "code",
   "execution_count": 59,
   "metadata": {},
   "outputs": [
    {
     "name": "stdout",
     "output_type": "stream",
     "text": [
      "['styles.css']\n"
     ]
    }
   ],
   "source": [
    "# find output files of snakemake workflow output\n",
    "outputs = os.listdir('./static')\n",
    "print(outputs)\n",
    "# iterate over each file in outputs:\n",
    "for file in outputs:\n",
    "    # if the file ends with \".html\", remove the file\n",
    "    if file.endswith(\".html\"):\n",
    "        os.remove(\"./static/\" + file)\n",
    "    # if the file ends with \".txt\", remove the file\n",
    "    if file.endswith(\".txt\"):\n",
    "        os.remove(\"./static/\" + file)\n",
    "\n",
    "# # if any filename ends with \".html\", delete the file(s)\n",
    "# if any(file.endswith(\".html\") for file in outputs):\n",
    "#     print(\"delete html\")\n",
    "#     subprocess.run([\"rm\", \"static/*.html\"])\n",
    "# # if any filename ends with \".txt\", delete the file(s)\n",
    "# if any(file.endswith(\".txt\") for file in outputs):\n",
    "#     print(\"delete txt\")\n",
    "#     subprocess.run([\"rm\", \"static/*.txt\"], capture_output=True, text=True)"
   ]
  }
 ],
 "metadata": {
  "kernelspec": {
   "display_name": "base",
   "language": "python",
   "name": "python3"
  },
  "language_info": {
   "codemirror_mode": {
    "name": "ipython",
    "version": 3
   },
   "file_extension": ".py",
   "mimetype": "text/x-python",
   "name": "python",
   "nbconvert_exporter": "python",
   "pygments_lexer": "ipython3",
   "version": "3.11.5"
  }
 },
 "nbformat": 4,
 "nbformat_minor": 2
}
